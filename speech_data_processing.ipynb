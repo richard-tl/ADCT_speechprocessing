{
 "cells": [
  {
   "cell_type": "code",
   "execution_count": null,
   "id": "d9d1f8f7-4474-434d-9477-972ef3bbfea2",
   "metadata": {},
   "outputs": [],
   "source": [
    "import copy\n",
    "import numpy as np\n",
    "import matplotlib.pyplot as plt\n",
    "%matplotlib inline\n",
    "import librosa\n",
    "import librosa.display\n",
    "from scipy import signal\n",
    "from itertools import groupby\n",
    "import IPython.display as ipd"
   ]
  },
  {
   "cell_type": "code",
   "execution_count": null,
   "id": "1db3711a-c591-4102-9daa-e7b50e8416ac",
   "metadata": {},
   "outputs": [],
   "source": [
    "file_path = 'D:/data_processed/filtered_speech/Filtered_Speech_C1_t14_s1.wav'\n",
    "role = 'Yaw'\n",
    "data, samplerate = librosa.load(file_path)"
   ]
  },
  {
   "cell_type": "code",
   "execution_count": null,
   "id": "d09a5d43-9ff0-4fe1-a207-5f180d132b6d",
   "metadata": {},
   "outputs": [],
   "source": [
    "# plot speech file and play it\n",
    "plt.figure(figsize=(14, 5))\n",
    "librosa.display.waveshow(data, sr=samplerate)\n",
    "ipd.Audio(data, rate = samplerate)"
   ]
  },
  {
   "cell_type": "code",
   "execution_count": null,
   "id": "28bb6faa-974e-4f65-ab73-651350182746",
   "metadata": {},
   "outputs": [],
   "source": [
    "# get when speec start\n",
    "is_speech = np.where(np.abs(data)>5e-4)[0]"
   ]
  },
  {
   "cell_type": "code",
   "execution_count": null,
   "id": "4a3a12f3-7412-4ce0-a63e-2de100afe1e8",
   "metadata": {},
   "outputs": [],
   "source": [
    "# find possible start and end time of speech\n",
    "possible_speech_start = []\n",
    "possible_speech_end = []\n",
    "temp_speech_end = []\n",
    "possible_speech_start.append(is_speech[0])\n",
    "for idx, value in enumerate(np.diff(is_speech)):\n",
    "    if value > 5000:\n",
    "        possible_speech_end.append(is_speech[idx-1])\n",
    "        possible_speech_start.append(is_speech[idx+1])\n",
    "    \n",
    "possible_speech_end.append(is_speech[idx])\n",
    "        "
   ]
  },
  {
   "cell_type": "code",
   "execution_count": null,
   "id": "ebeaeb14-527c-424d-a05f-0d5aa1664456",
   "metadata": {},
   "outputs": [],
   "source": [
    "# remove speech last too short\n",
    "is_speech_start = []\n",
    "is_speech_end = []\n",
    "durations = np.array(possible_speech_end) - np.array(possible_speech_start)\n",
    "for idx, dur in enumerate(durations):\n",
    "    if dur >= 2000: # too short, not speech\n",
    "        is_speech_start.append(possible_speech_start[idx])\n",
    "        is_speech_end.append(possible_speech_end[idx])"
   ]
  },
  {
   "cell_type": "code",
   "execution_count": null,
   "id": "31b74467-5e55-4081-84cd-cd5afe6385b2",
   "metadata": {},
   "outputs": [],
   "source": [
    "plt.figure(figsize=(20, 5))\n",
    "for i in range(len(is_speech_start)):\n",
    "    plt.axvline(is_speech_start[i], c='r')\n",
    "    plt.axvline(is_speech_end[i], c='g')\n",
    "plt.plot(data)"
   ]
  },
  {
   "cell_type": "code",
   "execution_count": null,
   "id": "4b290e73-c727-4891-8631-495642f51500",
   "metadata": {},
   "outputs": [],
   "source": [
    "player_said = np.zeros(len(data))\n",
    "for i in range(len(is_speech_start)):\n",
    "    player_said[is_speech_start[i]:is_speech_end[i]] = 1.0"
   ]
  },
  {
   "cell_type": "code",
   "execution_count": null,
   "id": "c4bb45b0-63ce-4f45-9c87-06fe735655d2",
   "metadata": {},
   "outputs": [],
   "source": [
    "plt.plot(player_said)"
   ]
  },
  {
   "cell_type": "code",
   "execution_count": null,
   "id": "7e875b3d-4eb8-47a7-bc1a-2ed62e07bf5e",
   "metadata": {},
   "outputs": [],
   "source": [
    "out_name_list = file_path.split('/')[-1].split('.')[0].split('_')[-3:]\n",
    "out_name = '_'.join(('Speech_event', out_name_list[1], out_name_list[2], role))"
   ]
  },
  {
   "cell_type": "code",
   "execution_count": null,
   "id": "056ef77e-cdf8-4825-bad5-59b93ee28651",
   "metadata": {},
   "outputs": [],
   "source": [
    "np.savez('D:/data_processed/speech_event/'+out_name+'.npz', player_said)"
   ]
  },
  {
   "cell_type": "code",
   "execution_count": null,
   "id": "2060a384-959e-4a5d-9748-90ff4eb0c3de",
   "metadata": {},
   "outputs": [],
   "source": [
    "out_name+'.npz'"
   ]
  }
 ],
 "metadata": {
  "kernelspec": {
   "display_name": "Python 3",
   "language": "python",
   "name": "python3"
  },
  "language_info": {
   "codemirror_mode": {
    "name": "ipython",
    "version": 3
   },
   "file_extension": ".py",
   "mimetype": "text/x-python",
   "name": "python",
   "nbconvert_exporter": "python",
   "pygments_lexer": "ipython3",
   "version": "3.8.8"
  }
 },
 "nbformat": 4,
 "nbformat_minor": 5
}

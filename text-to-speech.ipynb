{
 "cells": [
  {
   "cell_type": "code",
   "execution_count": null,
   "metadata": {},
   "outputs": [],
   "source": [
    "import pandas as pd\n",
    "import numpy as np\n",
    "import matplotlib.pyplot as plt\n",
    "import pickle\n",
    "import shutil"
   ]
  },
  {
   "cell_type": "code",
   "execution_count": null,
   "metadata": {},
   "outputs": [],
   "source": []
  },
  {
   "cell_type": "code",
   "execution_count": null,
   "metadata": {},
   "outputs": [],
   "source": [
    "speech_content = pd.read_csv(\"\")\n",
    "max_trials = \n",
    "\n",
    "pathTextGrid = \n",
    "noWords, wordTimings = getWordTimings(pathTextGrid, offset = 0, wordStartIdx = 0)"
   ]
  },
  {
   "cell_type": "code",
   "execution_count": null,
   "metadata": {},
   "outputs": [],
   "source": [
    "def folderCheckMake(path):\n",
    "    if os.path.exists(path) == False:\n",
    "        os.mkdir(path)"
   ]
  },
  {
   "cell_type": "code",
   "execution_count": null,
   "metadata": {},
   "outputs": [],
   "source": [
    "def getTokens(text):\n",
    "    to_return = []\n",
    "    \n",
    "    temp = text.lower().split()\n",
    "    for word in temp:\n",
    "        to_return.append(word.rstrip(',!.?'))\n",
    "    \n",
    "    return to_return"
   ]
  },
  {
   "cell_type": "code",
   "execution_count": null,
   "metadata": {},
   "outputs": [],
   "source": [
    "def getWordTimings(pathTextGrid, offset = 0, wordStartIdx = 0):\n",
    "    \n",
    "    this_data = {}\n",
    "    wordCTR = 0\n",
    "    \n",
    "    fileNameTextGrid = pathTextGrid\n",
    "    thisTextGrid = textgrids.TextGrid(fileNameTextGrid)\n",
    "    \n",
    "    for wordNo, wordData in enumerate(thisTextGrid['words']):\n",
    "        \n",
    "        this_word_data = {}\n",
    "        \n",
    "        this_word_data['word'] = wordData.text\n",
    "        this_word_data['start'] = wordData.xmin + offset\n",
    "        this_word_data['stop'] = wordData.xmax + offset\n",
    "        this_word_data['start2'] = wordData.xmin\n",
    "        this_word_data['stop2'] = wordData.xmax\n",
    "        \n",
    "        # Add only words, not silences or out-of-vocabulary tokens.\n",
    "        # Out-of-vocabulary tokens may include names of people, place etc.\n",
    "        \n",
    "        if this_word_data['word'] != '':\n",
    "            this_data[wordCTR + wordStartIdx] = this_word_data\n",
    "            wordCTR = wordCTR + 1\n",
    "        \n",
    "    return len(this_data), this_data"
   ]
  },
  {
   "cell_type": "code",
   "execution_count": null,
   "metadata": {},
   "outputs": [],
   "source": [
    "def getStartTime(wordTimings, tokens):\n",
    "    \n",
    "    window = len(tokens)\n",
    "    \n",
    "    for wordStartNo in np.arange(len(wordTimings) - window + 1):\n",
    "        thisWindowWords = []\n",
    "        thisWindowStarts = []\n",
    "        for delta in np.arange(window):\n",
    "            thisWindowWords.append(wordTimings[wordStartNo + delta]['word'])\n",
    "            thisWindowStarts.append(wordTimings[wordStartNo + delta]['start'])\n",
    "        if getIntersectionCount(tokens, thisWindowWords)/window > 0.7: \n",
    "            if tokens[0] in thisWindowWords:\n",
    "                startWordIdx = thisWindowWords.index(tokens[0])\n",
    "                return thisWindowStarts[startWordIdx]\n",
    "            elif tokens[1] in thisWindowWords:\n",
    "                startWordIdx = thisWindowWords.index(tokens[1]) - 1\n",
    "                return thisWindowStarts[startWordIdx]\n",
    "        \n",
    "#             return wordTimings[wordStartNo]['start']\n",
    "    \n",
    "    return 0"
   ]
  },
  {
   "cell_type": "code",
   "execution_count": null,
   "metadata": {},
   "outputs": [],
   "source": [
    "def getEndTime(wordTimings, tokens):\n",
    "    \n",
    "    # Not a great implementations!\n",
    "    \n",
    "    window = len(tokens)\n",
    "    lookAhead = 10\n",
    "    \n",
    "    for wordStartNo in np.arange(len(wordTimings) - window + 1):\n",
    "        thisWindowWords = []\n",
    "        thisWindowStops = []\n",
    "        for delta in np.arange(window):\n",
    "            thisWindowWords.append(wordTimings[wordStartNo + delta]['word'])\n",
    "            thisWindowStops.append(wordTimings[wordStartNo + delta]['stop'])\n",
    "        \n",
    "        if getIntersectionCount(tokens, thisWindowWords)/window > 0.8:\n",
    "            \n",
    "#             print(\"Tokens: \", tokens)\n",
    "#             print()\n",
    "#             print(\"Before look ahead: \", thisWindowWords)\n",
    "#             print()\n",
    "            \n",
    "            # Append some lookahead\n",
    "            \n",
    "            for delta in np.arange(lookAhead):\n",
    "                try:\n",
    "                    thisWindowWords.append(wordTimings[wordStartNo + delta + window]['word'])\n",
    "                    thisWindowStops.append(wordTimings[wordStartNo + delta + window]['stop'])\n",
    "                except:\n",
    "                    pass\n",
    "#                     print(\"\\nExceeded bounds.\\n\")\n",
    "                    \n",
    "#             print(\"After look ahead: \", thisWindowWords)\n",
    "#             print()\n",
    "            \n",
    "            # Now check and return the word end time. Perhaps the following needs to be optimised!\n",
    "            \n",
    "            if tokens[-1] in thisWindowWords:\n",
    "                stopWordIdx = max(loc for loc, val in enumerate(thisWindowWords) if val == tokens[-1])\n",
    "#                 print(\"\\n Captured: \", thisWindowWords[stopWordIdx])\n",
    "                return thisWindowStops[stopWordIdx]\n",
    "            elif tokens[-2] in thisWindowWords:\n",
    "                stopWordIdx = max(loc for loc, val in enumerate(thisWindowWords) if val == tokens[-2])\n",
    "#                 print(\"\\n Captured: \", thisWindowWords[stopWordIdx + 1])\n",
    "                return thisWindowStops[stopWordIdx] # I don't recall, why this isn't thisWindowStops[stopWordIdx + 1]\n",
    "\n",
    "            \n",
    "#             return wordTimings[wordStartNo + window - 1]['stop']\n",
    "        \n",
    "    return 0"
   ]
  }
 ],
 "metadata": {
  "language_info": {
   "name": "python"
  },
  "orig_nbformat": 4
 },
 "nbformat": 4,
 "nbformat_minor": 2
}

{
 "cells": [
  {
   "cell_type": "code",
   "execution_count": 1,
   "id": "562b0a18",
   "metadata": {},
   "outputs": [
    {
     "data": {
      "image/png": "[encoded data removed]",
      "text/plain": [
       "<Figure size 432x288 with 1 Axes>"
      ]
     },
     "metadata": {
      "needs_background": "light"
     },
     "output_type": "display_data"
    }
   ],
   "source": [
    "import os\n",
    "import argparse\n",
    "import numpy as np\n",
    "from auditok import AudioRegion\n",
    "import glob\n",
    "\n",
    "import matplotlib.pyplot as plt\n",
    "from matplotlib.backends.backend_agg import FigureCanvasAgg as FigureCanvas\n",
    "\n",
    "roles = ['Yaw', 'Pitch', 'Thrust']\n",
    "\n",
    "def encode_audio(speech_file):\n",
    "    DEBUG = False\n",
    "    plot_frequency = 100\n",
    "    region = AudioRegion.load(speech_file)\n",
    "\n",
    "    #manually switch min_dur, energy_threshold 0.02s, 20dB\n",
    "    regions = region.split_and_plot(min_dur=0.02, energy_threshold=20, drop_trailing_silence=True, show=DEBUG)\n",
    "\n",
    "    start_time_list = []\n",
    "    end_time_list = []\n",
    "\n",
    "    for idx in range(len(regions)):\n",
    "        start_time_list.append(round(regions[idx].meta.start, 2))\n",
    "        end_time_list.append(round(regions[idx].meta.end, 2))\n",
    "\n",
    "    x = np.linspace(0, region.duration, int(plot_frequency * region.duration), endpoint=True)\n",
    "    x = np.array([round(px, 2) for px in x])\n",
    "    y = np.array([], np.int16)\n",
    "\n",
    "    flag = False\n",
    "    for idx in range(x.shape[0]):\n",
    "        if x[idx] in start_time_list:\n",
    "            y = np.append(y, 1)\n",
    "            flag = True\n",
    "        elif x[idx] in end_time_list:\n",
    "            y = np.append(y, 1)\n",
    "            flag = False\n",
    "        elif flag is True:\n",
    "            y = np.append(y, 1)\n",
    "        else:\n",
    "            y = np.append(y, 0)\n",
    "\n",
    "    plt.close('all')\n",
    "    plt.plot(x, y)\n",
    "    plt.savefig('binary.png')\n",
    "\n",
    "    return y\n",
    "    #save this into a .csv\n",
    "    #T14_Yaw_S1.csv\n",
    "\n",
    "\n",
    "for file in glob.iglob('D:/Filtered_Speech/*.wav'):\n",
    "    processed = encode_audio(file)\n",
    "    filename = os.path.basename(file)\n",
    "    out_name = \"{trial}.csv\"\n",
    "    np.savetxt(out_name.format(trial=filename), processed, delimiter = ',')\n",
    "\n",
    "\n"
   ]
  },
  {
   "cell_type": "code",
   "execution_count": null,
   "id": "71a18f0d",
   "metadata": {},
   "outputs": [],
   "source": []
  },
  {
   "cell_type": "code",
   "execution_count": null,
   "id": "b6c72922",
   "metadata": {},
   "outputs": [],
   "source": []
  }
 ],
 "metadata": {
  "kernelspec": {
   "display_name": "Python 3 (ipykernel)",
   "language": "python",
   "name": "python3"
  },
  "language_info": {
   "codemirror_mode": {
    "name": "ipython",
    "version": 3
   },
   "file_extension": ".py",
   "mimetype": "text/x-python",
   "name": "python",
   "nbconvert_exporter": "python",
   "pygments_lexer": "ipython3",
   "version": "3.9.7"
  }
 },
 "nbformat": 4,
 "nbformat_minor": 5
}
